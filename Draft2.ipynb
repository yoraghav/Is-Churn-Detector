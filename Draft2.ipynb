{
  "cells": [
    {
      "cell_type": "code",
      "execution_count": 1,
      "id": "39adbedf",
      "metadata": {
        "id": "39adbedf"
      },
      "outputs": [],
      "source": [
        "import pandas as pd\n",
        "\n",
        "data = pd.read_csv(\"Train_churn.csv\")"
      ]
    },
    {
      "cell_type": "code",
      "execution_count": 2,
      "id": "e28fa156",
      "metadata": {
        "id": "e28fa156"
      },
      "outputs": [],
      "source": [
        "data = data.set_index(['ID'])\n",
        "from sklearn import preprocessing\n",
        "label_encoder = preprocessing.LabelEncoder()\n",
        "data['Gender'] = label_encoder.fit_transform(data['Gender'])"
      ]
    },
    {
      "cell_type": "code",
      "execution_count": 3,
      "id": "13fd0bda",
      "metadata": {
        "colab": {
          "base_uri": "https://localhost:8080/",
          "height": 752
        },
        "id": "13fd0bda",
        "outputId": "92e9fa00-4e19-4f47-8392-77322392dbac"
      },
      "outputs": [
        {
          "output_type": "execute_result",
          "data": {
            "text/plain": [
              "          Age  Gender         Income     Balance  Vintage  Transaction_Status  \\\n",
              "ID                                                                              \n",
              "84e2fcc9   36       0       5L - 10L   563266.44        4                   0   \n",
              "57fea15e   53       0   Less than 5L   875572.11        2                   1   \n",
              "8df34ef3   35       0  More than 15L   701607.06        2                   1   \n",
              "c5c0788b   43       0  More than 15L  1393922.16        0                   1   \n",
              "951d69c4   39       0  More than 15L   893146.23        1                   1   \n",
              "...       ...     ...            ...         ...      ...                 ...   \n",
              "a8216afd   61       1       5L - 10L  1354526.19        4                   1   \n",
              "153a306b   42       0       5L - 10L   596286.54        3                   1   \n",
              "d4075a95   29       1   Less than 5L   979298.19        2                   0   \n",
              "5855b142   66       0      10L - 15L   395233.65        3                   0   \n",
              "57b39511   37       1  More than 15L   826947.27        1                   1   \n",
              "\n",
              "         Product_Holdings  Credit_Card Credit_Category  Is_Churn  \n",
              "ID                                                                \n",
              "84e2fcc9                1            0         Average         1  \n",
              "57fea15e                1            1            Poor         0  \n",
              "8df34ef3                2            0            Poor         0  \n",
              "c5c0788b                2            1            Poor         1  \n",
              "951d69c4                1            1            Good         1  \n",
              "...                   ...          ...             ...       ...  \n",
              "a8216afd                2            1            Poor         1  \n",
              "153a306b                2            1         Average         0  \n",
              "d4075a95                2            0            Poor         0  \n",
              "5855b142                2            1            Poor         1  \n",
              "57b39511                2            0            Good         0  \n",
              "\n",
              "[6650 rows x 10 columns]"
            ],
            "text/html": [
              "\n",
              "  <div id=\"df-7c99f1b2-fd4c-4e81-aaa8-f4342434c738\">\n",
              "    <div class=\"colab-df-container\">\n",
              "      <div>\n",
              "<style scoped>\n",
              "    .dataframe tbody tr th:only-of-type {\n",
              "        vertical-align: middle;\n",
              "    }\n",
              "\n",
              "    .dataframe tbody tr th {\n",
              "        vertical-align: top;\n",
              "    }\n",
              "\n",
              "    .dataframe thead th {\n",
              "        text-align: right;\n",
              "    }\n",
              "</style>\n",
              "<table border=\"1\" class=\"dataframe\">\n",
              "  <thead>\n",
              "    <tr style=\"text-align: right;\">\n",
              "      <th></th>\n",
              "      <th>Age</th>\n",
              "      <th>Gender</th>\n",
              "      <th>Income</th>\n",
              "      <th>Balance</th>\n",
              "      <th>Vintage</th>\n",
              "      <th>Transaction_Status</th>\n",
              "      <th>Product_Holdings</th>\n",
              "      <th>Credit_Card</th>\n",
              "      <th>Credit_Category</th>\n",
              "      <th>Is_Churn</th>\n",
              "    </tr>\n",
              "    <tr>\n",
              "      <th>ID</th>\n",
              "      <th></th>\n",
              "      <th></th>\n",
              "      <th></th>\n",
              "      <th></th>\n",
              "      <th></th>\n",
              "      <th></th>\n",
              "      <th></th>\n",
              "      <th></th>\n",
              "      <th></th>\n",
              "      <th></th>\n",
              "    </tr>\n",
              "  </thead>\n",
              "  <tbody>\n",
              "    <tr>\n",
              "      <th>84e2fcc9</th>\n",
              "      <td>36</td>\n",
              "      <td>0</td>\n",
              "      <td>5L - 10L</td>\n",
              "      <td>563266.44</td>\n",
              "      <td>4</td>\n",
              "      <td>0</td>\n",
              "      <td>1</td>\n",
              "      <td>0</td>\n",
              "      <td>Average</td>\n",
              "      <td>1</td>\n",
              "    </tr>\n",
              "    <tr>\n",
              "      <th>57fea15e</th>\n",
              "      <td>53</td>\n",
              "      <td>0</td>\n",
              "      <td>Less than 5L</td>\n",
              "      <td>875572.11</td>\n",
              "      <td>2</td>\n",
              "      <td>1</td>\n",
              "      <td>1</td>\n",
              "      <td>1</td>\n",
              "      <td>Poor</td>\n",
              "      <td>0</td>\n",
              "    </tr>\n",
              "    <tr>\n",
              "      <th>8df34ef3</th>\n",
              "      <td>35</td>\n",
              "      <td>0</td>\n",
              "      <td>More than 15L</td>\n",
              "      <td>701607.06</td>\n",
              "      <td>2</td>\n",
              "      <td>1</td>\n",
              "      <td>2</td>\n",
              "      <td>0</td>\n",
              "      <td>Poor</td>\n",
              "      <td>0</td>\n",
              "    </tr>\n",
              "    <tr>\n",
              "      <th>c5c0788b</th>\n",
              "      <td>43</td>\n",
              "      <td>0</td>\n",
              "      <td>More than 15L</td>\n",
              "      <td>1393922.16</td>\n",
              "      <td>0</td>\n",
              "      <td>1</td>\n",
              "      <td>2</td>\n",
              "      <td>1</td>\n",
              "      <td>Poor</td>\n",
              "      <td>1</td>\n",
              "    </tr>\n",
              "    <tr>\n",
              "      <th>951d69c4</th>\n",
              "      <td>39</td>\n",
              "      <td>0</td>\n",
              "      <td>More than 15L</td>\n",
              "      <td>893146.23</td>\n",
              "      <td>1</td>\n",
              "      <td>1</td>\n",
              "      <td>1</td>\n",
              "      <td>1</td>\n",
              "      <td>Good</td>\n",
              "      <td>1</td>\n",
              "    </tr>\n",
              "    <tr>\n",
              "      <th>...</th>\n",
              "      <td>...</td>\n",
              "      <td>...</td>\n",
              "      <td>...</td>\n",
              "      <td>...</td>\n",
              "      <td>...</td>\n",
              "      <td>...</td>\n",
              "      <td>...</td>\n",
              "      <td>...</td>\n",
              "      <td>...</td>\n",
              "      <td>...</td>\n",
              "    </tr>\n",
              "    <tr>\n",
              "      <th>a8216afd</th>\n",
              "      <td>61</td>\n",
              "      <td>1</td>\n",
              "      <td>5L - 10L</td>\n",
              "      <td>1354526.19</td>\n",
              "      <td>4</td>\n",
              "      <td>1</td>\n",
              "      <td>2</td>\n",
              "      <td>1</td>\n",
              "      <td>Poor</td>\n",
              "      <td>1</td>\n",
              "    </tr>\n",
              "    <tr>\n",
              "      <th>153a306b</th>\n",
              "      <td>42</td>\n",
              "      <td>0</td>\n",
              "      <td>5L - 10L</td>\n",
              "      <td>596286.54</td>\n",
              "      <td>3</td>\n",
              "      <td>1</td>\n",
              "      <td>2</td>\n",
              "      <td>1</td>\n",
              "      <td>Average</td>\n",
              "      <td>0</td>\n",
              "    </tr>\n",
              "    <tr>\n",
              "      <th>d4075a95</th>\n",
              "      <td>29</td>\n",
              "      <td>1</td>\n",
              "      <td>Less than 5L</td>\n",
              "      <td>979298.19</td>\n",
              "      <td>2</td>\n",
              "      <td>0</td>\n",
              "      <td>2</td>\n",
              "      <td>0</td>\n",
              "      <td>Poor</td>\n",
              "      <td>0</td>\n",
              "    </tr>\n",
              "    <tr>\n",
              "      <th>5855b142</th>\n",
              "      <td>66</td>\n",
              "      <td>0</td>\n",
              "      <td>10L - 15L</td>\n",
              "      <td>395233.65</td>\n",
              "      <td>3</td>\n",
              "      <td>0</td>\n",
              "      <td>2</td>\n",
              "      <td>1</td>\n",
              "      <td>Poor</td>\n",
              "      <td>1</td>\n",
              "    </tr>\n",
              "    <tr>\n",
              "      <th>57b39511</th>\n",
              "      <td>37</td>\n",
              "      <td>1</td>\n",
              "      <td>More than 15L</td>\n",
              "      <td>826947.27</td>\n",
              "      <td>1</td>\n",
              "      <td>1</td>\n",
              "      <td>2</td>\n",
              "      <td>0</td>\n",
              "      <td>Good</td>\n",
              "      <td>0</td>\n",
              "    </tr>\n",
              "  </tbody>\n",
              "</table>\n",
              "<p>6650 rows × 10 columns</p>\n",
              "</div>\n",
              "      <button class=\"colab-df-convert\" onclick=\"convertToInteractive('df-7c99f1b2-fd4c-4e81-aaa8-f4342434c738')\"\n",
              "              title=\"Convert this dataframe to an interactive table.\"\n",
              "              style=\"display:none;\">\n",
              "        \n",
              "  <svg xmlns=\"http://www.w3.org/2000/svg\" height=\"24px\"viewBox=\"0 0 24 24\"\n",
              "       width=\"24px\">\n",
              "    <path d=\"M0 0h24v24H0V0z\" fill=\"none\"/>\n",
              "    <path d=\"M18.56 5.44l.94 2.06.94-2.06 2.06-.94-2.06-.94-.94-2.06-.94 2.06-2.06.94zm-11 1L8.5 8.5l.94-2.06 2.06-.94-2.06-.94L8.5 2.5l-.94 2.06-2.06.94zm10 10l.94 2.06.94-2.06 2.06-.94-2.06-.94-.94-2.06-.94 2.06-2.06.94z\"/><path d=\"M17.41 7.96l-1.37-1.37c-.4-.4-.92-.59-1.43-.59-.52 0-1.04.2-1.43.59L10.3 9.45l-7.72 7.72c-.78.78-.78 2.05 0 2.83L4 21.41c.39.39.9.59 1.41.59.51 0 1.02-.2 1.41-.59l7.78-7.78 2.81-2.81c.8-.78.8-2.07 0-2.86zM5.41 20L4 18.59l7.72-7.72 1.47 1.35L5.41 20z\"/>\n",
              "  </svg>\n",
              "      </button>\n",
              "      \n",
              "  <style>\n",
              "    .colab-df-container {\n",
              "      display:flex;\n",
              "      flex-wrap:wrap;\n",
              "      gap: 12px;\n",
              "    }\n",
              "\n",
              "    .colab-df-convert {\n",
              "      background-color: #E8F0FE;\n",
              "      border: none;\n",
              "      border-radius: 50%;\n",
              "      cursor: pointer;\n",
              "      display: none;\n",
              "      fill: #1967D2;\n",
              "      height: 32px;\n",
              "      padding: 0 0 0 0;\n",
              "      width: 32px;\n",
              "    }\n",
              "\n",
              "    .colab-df-convert:hover {\n",
              "      background-color: #E2EBFA;\n",
              "      box-shadow: 0px 1px 2px rgba(60, 64, 67, 0.3), 0px 1px 3px 1px rgba(60, 64, 67, 0.15);\n",
              "      fill: #174EA6;\n",
              "    }\n",
              "\n",
              "    [theme=dark] .colab-df-convert {\n",
              "      background-color: #3B4455;\n",
              "      fill: #D2E3FC;\n",
              "    }\n",
              "\n",
              "    [theme=dark] .colab-df-convert:hover {\n",
              "      background-color: #434B5C;\n",
              "      box-shadow: 0px 1px 3px 1px rgba(0, 0, 0, 0.15);\n",
              "      filter: drop-shadow(0px 1px 2px rgba(0, 0, 0, 0.3));\n",
              "      fill: #FFFFFF;\n",
              "    }\n",
              "  </style>\n",
              "\n",
              "      <script>\n",
              "        const buttonEl =\n",
              "          document.querySelector('#df-7c99f1b2-fd4c-4e81-aaa8-f4342434c738 button.colab-df-convert');\n",
              "        buttonEl.style.display =\n",
              "          google.colab.kernel.accessAllowed ? 'block' : 'none';\n",
              "\n",
              "        async function convertToInteractive(key) {\n",
              "          const element = document.querySelector('#df-7c99f1b2-fd4c-4e81-aaa8-f4342434c738');\n",
              "          const dataTable =\n",
              "            await google.colab.kernel.invokeFunction('convertToInteractive',\n",
              "                                                     [key], {});\n",
              "          if (!dataTable) return;\n",
              "\n",
              "          const docLinkHtml = 'Like what you see? Visit the ' +\n",
              "            '<a target=\"_blank\" href=https://colab.research.google.com/notebooks/data_table.ipynb>data table notebook</a>'\n",
              "            + ' to learn more about interactive tables.';\n",
              "          element.innerHTML = '';\n",
              "          dataTable['output_type'] = 'display_data';\n",
              "          await google.colab.output.renderOutput(dataTable, element);\n",
              "          const docLink = document.createElement('div');\n",
              "          docLink.innerHTML = docLinkHtml;\n",
              "          element.appendChild(docLink);\n",
              "        }\n",
              "      </script>\n",
              "    </div>\n",
              "  </div>\n",
              "  "
            ]
          },
          "metadata": {},
          "execution_count": 3
        }
      ],
      "source": [
        "data"
      ]
    },
    {
      "cell_type": "code",
      "execution_count": 4,
      "id": "95032d7e",
      "metadata": {
        "id": "95032d7e"
      },
      "outputs": [],
      "source": [
        "a = []\n",
        "for cc in data.Credit_Category:\n",
        "    if(cc[0]=='P'):\n",
        "        a.append(-1)\n",
        "    elif(cc[0]=='A'):\n",
        "        a.append(0)\n",
        "    else:\n",
        "        a.append(1)"
      ]
    },
    {
      "cell_type": "code",
      "execution_count": 5,
      "id": "aa6042e2",
      "metadata": {
        "id": "aa6042e2"
      },
      "outputs": [],
      "source": [
        "data.Credit_Category = a"
      ]
    },
    {
      "cell_type": "code",
      "execution_count": 6,
      "id": "ec5a1742",
      "metadata": {
        "id": "ec5a1742"
      },
      "outputs": [],
      "source": [
        "a = []\n",
        "for cc in data.Income:\n",
        "    if(cc[0]=='L'):\n",
        "        a.append(-1)\n",
        "    elif(cc[0]=='5'):\n",
        "        a.append(0)\n",
        "    else:\n",
        "        a.append(1)"
      ]
    },
    {
      "cell_type": "code",
      "execution_count": 7,
      "id": "8040e744",
      "metadata": {
        "id": "8040e744"
      },
      "outputs": [],
      "source": [
        "data.Income = a"
      ]
    },
    {
      "cell_type": "code",
      "execution_count": 8,
      "id": "a938e142",
      "metadata": {
        "id": "a938e142"
      },
      "outputs": [],
      "source": [
        "a = [] \n",
        "for i in data.Product_Holdings:\n",
        "    if(i[0]=='3'):\n",
        "        a.append(3)\n",
        "    else:\n",
        "        a.append(int(i))\n",
        "data.Product_Holdings=a"
      ]
    },
    {
      "cell_type": "code",
      "execution_count": 29,
      "id": "a2734d46",
      "metadata": {
        "id": "a2734d46"
      },
      "outputs": [],
      "source": [
        "from sklearn.model_selection import train_test_split\n",
        "\n",
        "X_train, X_test, y_train, y_test = train_test_split(data.drop(['Is_Churn'],axis=1), data.Is_Churn , test_size=0.1, random_state=0)"
      ]
    },
    {
      "cell_type": "code",
      "execution_count": 30,
      "id": "c965c1fe",
      "metadata": {
        "id": "c965c1fe"
      },
      "outputs": [],
      "source": [
        "from sklearn.preprocessing import StandardScaler\n",
        "\n",
        "ss_train = StandardScaler()\n",
        "X_train = ss_train.fit_transform(X_train)\n",
        "\n",
        "ss_test = StandardScaler()\n",
        "X_test = ss_test.fit_transform(X_test)"
      ]
    },
    {
      "cell_type": "code",
      "execution_count": 31,
      "id": "ca114e66",
      "metadata": {
        "colab": {
          "base_uri": "https://localhost:8080/"
        },
        "id": "ca114e66",
        "outputId": "2495ae27-38df-4f48-f455-f39814d24c8f"
      },
      "outputs": [
        {
          "output_type": "execute_result",
          "data": {
            "text/plain": [
              "array([[ 2.47004993, -1.0882585 , -1.53097184, ..., -0.98088579,\n",
              "         0.70817037,  1.54378734],\n",
              "       [ 2.15955141,  0.91889932, -1.53097184, ..., -0.98088579,\n",
              "         0.70817037, -0.95778765],\n",
              "       [ 1.02105681, -1.0882585 ,  0.926549  , ..., -0.98088579,\n",
              "         0.70817037,  1.54378734],\n",
              "       ...,\n",
              "       [ 0.08956123,  0.91889932, -0.30221142, ..., -0.98088579,\n",
              "         0.70817037, -0.95778765],\n",
              "       [ 2.15955141, -1.0882585 ,  0.926549  , ...,  0.77153256,\n",
              "         0.70817037, -0.95778765],\n",
              "       [ 1.02105681,  0.91889932, -0.30221142, ...,  2.52395091,\n",
              "         0.70817037,  1.54378734]])"
            ]
          },
          "metadata": {},
          "execution_count": 31
        }
      ],
      "source": [
        "X_train"
      ]
    },
    {
      "cell_type": "code",
      "execution_count": 32,
      "id": "1e888906",
      "metadata": {
        "id": "1e888906"
      },
      "outputs": [],
      "source": [
        "models = {}\n",
        "\n",
        "# Logistic Regression\n",
        "from sklearn.linear_model import LogisticRegression\n",
        "models['Logistic Regression'] = LogisticRegression()\n",
        "\n",
        "# Support Vector Machines\n",
        "from sklearn.svm import LinearSVC\n",
        "models['Support Vector Machines'] = LinearSVC()\n",
        "\n",
        "# Decision Trees\n",
        "from sklearn.tree import DecisionTreeClassifier\n",
        "models['Decision Trees'] = DecisionTreeClassifier()\n",
        "\n",
        "# Random Forest\n",
        "from sklearn.ensemble import RandomForestClassifier\n",
        "models['Random Forest'] = RandomForestClassifier()\n",
        "\n",
        "# Naive Bayes\n",
        "from sklearn.naive_bayes import GaussianNB\n",
        "models['Naive Bayes'] = GaussianNB()\n",
        "\n",
        "# K-Nearest Neighbors\n",
        "from sklearn.neighbors import KNeighborsClassifier\n",
        "models['K-Nearest Neighbor'] = KNeighborsClassifier()"
      ]
    },
    {
      "cell_type": "code",
      "execution_count": 33,
      "id": "728fb0b4",
      "metadata": {
        "id": "728fb0b4"
      },
      "outputs": [],
      "source": [
        "from sklearn.metrics import accuracy_score, precision_score, recall_score\n",
        "\n",
        "accuracy, precision, recall = {}, {}, {}\n",
        "\n",
        "for key in models.keys():\n",
        "    \n",
        "    # Fit the classifier\n",
        "    models[key].fit(X_train, y_train)\n",
        "    \n",
        "    # Make predictions\n",
        "    predictions = models[key].predict(X_test)\n",
        "    \n",
        "    # Calculate metrics\n",
        "    accuracy[key] = accuracy_score(predictions, y_test)\n",
        "    precision[key] = precision_score(predictions, y_test)\n",
        "    recall[key] = recall_score(predictions, y_test)"
      ]
    },
    {
      "cell_type": "code",
      "execution_count": 34,
      "id": "eb58f259",
      "metadata": {
        "colab": {
          "base_uri": "https://localhost:8080/",
          "height": 235
        },
        "id": "eb58f259",
        "outputId": "53a00e85-70f2-44f0-e577-3c898ee61e40"
      },
      "outputs": [
        {
          "output_type": "execute_result",
          "data": {
            "text/plain": [
              "                         Accuracy  Precision    Recall\n",
              "Logistic Regression      0.759398   0.036810  0.666667\n",
              "Support Vector Machines  0.756391   0.006135  1.000000\n",
              "Decision Trees           0.667669   0.386503  0.342391\n",
              "Random Forest            0.729323   0.122699  0.350877\n",
              "Naive Bayes              0.751880   0.061350  0.454545\n",
              "K-Nearest Neighbor       0.721805   0.122699  0.322581"
            ],
            "text/html": [
              "\n",
              "  <div id=\"df-ae34f389-c0c7-4b03-afb3-c8edc24b15ba\">\n",
              "    <div class=\"colab-df-container\">\n",
              "      <div>\n",
              "<style scoped>\n",
              "    .dataframe tbody tr th:only-of-type {\n",
              "        vertical-align: middle;\n",
              "    }\n",
              "\n",
              "    .dataframe tbody tr th {\n",
              "        vertical-align: top;\n",
              "    }\n",
              "\n",
              "    .dataframe thead th {\n",
              "        text-align: right;\n",
              "    }\n",
              "</style>\n",
              "<table border=\"1\" class=\"dataframe\">\n",
              "  <thead>\n",
              "    <tr style=\"text-align: right;\">\n",
              "      <th></th>\n",
              "      <th>Accuracy</th>\n",
              "      <th>Precision</th>\n",
              "      <th>Recall</th>\n",
              "    </tr>\n",
              "  </thead>\n",
              "  <tbody>\n",
              "    <tr>\n",
              "      <th>Logistic Regression</th>\n",
              "      <td>0.759398</td>\n",
              "      <td>0.036810</td>\n",
              "      <td>0.666667</td>\n",
              "    </tr>\n",
              "    <tr>\n",
              "      <th>Support Vector Machines</th>\n",
              "      <td>0.756391</td>\n",
              "      <td>0.006135</td>\n",
              "      <td>1.000000</td>\n",
              "    </tr>\n",
              "    <tr>\n",
              "      <th>Decision Trees</th>\n",
              "      <td>0.667669</td>\n",
              "      <td>0.386503</td>\n",
              "      <td>0.342391</td>\n",
              "    </tr>\n",
              "    <tr>\n",
              "      <th>Random Forest</th>\n",
              "      <td>0.729323</td>\n",
              "      <td>0.122699</td>\n",
              "      <td>0.350877</td>\n",
              "    </tr>\n",
              "    <tr>\n",
              "      <th>Naive Bayes</th>\n",
              "      <td>0.751880</td>\n",
              "      <td>0.061350</td>\n",
              "      <td>0.454545</td>\n",
              "    </tr>\n",
              "    <tr>\n",
              "      <th>K-Nearest Neighbor</th>\n",
              "      <td>0.721805</td>\n",
              "      <td>0.122699</td>\n",
              "      <td>0.322581</td>\n",
              "    </tr>\n",
              "  </tbody>\n",
              "</table>\n",
              "</div>\n",
              "      <button class=\"colab-df-convert\" onclick=\"convertToInteractive('df-ae34f389-c0c7-4b03-afb3-c8edc24b15ba')\"\n",
              "              title=\"Convert this dataframe to an interactive table.\"\n",
              "              style=\"display:none;\">\n",
              "        \n",
              "  <svg xmlns=\"http://www.w3.org/2000/svg\" height=\"24px\"viewBox=\"0 0 24 24\"\n",
              "       width=\"24px\">\n",
              "    <path d=\"M0 0h24v24H0V0z\" fill=\"none\"/>\n",
              "    <path d=\"M18.56 5.44l.94 2.06.94-2.06 2.06-.94-2.06-.94-.94-2.06-.94 2.06-2.06.94zm-11 1L8.5 8.5l.94-2.06 2.06-.94-2.06-.94L8.5 2.5l-.94 2.06-2.06.94zm10 10l.94 2.06.94-2.06 2.06-.94-2.06-.94-.94-2.06-.94 2.06-2.06.94z\"/><path d=\"M17.41 7.96l-1.37-1.37c-.4-.4-.92-.59-1.43-.59-.52 0-1.04.2-1.43.59L10.3 9.45l-7.72 7.72c-.78.78-.78 2.05 0 2.83L4 21.41c.39.39.9.59 1.41.59.51 0 1.02-.2 1.41-.59l7.78-7.78 2.81-2.81c.8-.78.8-2.07 0-2.86zM5.41 20L4 18.59l7.72-7.72 1.47 1.35L5.41 20z\"/>\n",
              "  </svg>\n",
              "      </button>\n",
              "      \n",
              "  <style>\n",
              "    .colab-df-container {\n",
              "      display:flex;\n",
              "      flex-wrap:wrap;\n",
              "      gap: 12px;\n",
              "    }\n",
              "\n",
              "    .colab-df-convert {\n",
              "      background-color: #E8F0FE;\n",
              "      border: none;\n",
              "      border-radius: 50%;\n",
              "      cursor: pointer;\n",
              "      display: none;\n",
              "      fill: #1967D2;\n",
              "      height: 32px;\n",
              "      padding: 0 0 0 0;\n",
              "      width: 32px;\n",
              "    }\n",
              "\n",
              "    .colab-df-convert:hover {\n",
              "      background-color: #E2EBFA;\n",
              "      box-shadow: 0px 1px 2px rgba(60, 64, 67, 0.3), 0px 1px 3px 1px rgba(60, 64, 67, 0.15);\n",
              "      fill: #174EA6;\n",
              "    }\n",
              "\n",
              "    [theme=dark] .colab-df-convert {\n",
              "      background-color: #3B4455;\n",
              "      fill: #D2E3FC;\n",
              "    }\n",
              "\n",
              "    [theme=dark] .colab-df-convert:hover {\n",
              "      background-color: #434B5C;\n",
              "      box-shadow: 0px 1px 3px 1px rgba(0, 0, 0, 0.15);\n",
              "      filter: drop-shadow(0px 1px 2px rgba(0, 0, 0, 0.3));\n",
              "      fill: #FFFFFF;\n",
              "    }\n",
              "  </style>\n",
              "\n",
              "      <script>\n",
              "        const buttonEl =\n",
              "          document.querySelector('#df-ae34f389-c0c7-4b03-afb3-c8edc24b15ba button.colab-df-convert');\n",
              "        buttonEl.style.display =\n",
              "          google.colab.kernel.accessAllowed ? 'block' : 'none';\n",
              "\n",
              "        async function convertToInteractive(key) {\n",
              "          const element = document.querySelector('#df-ae34f389-c0c7-4b03-afb3-c8edc24b15ba');\n",
              "          const dataTable =\n",
              "            await google.colab.kernel.invokeFunction('convertToInteractive',\n",
              "                                                     [key], {});\n",
              "          if (!dataTable) return;\n",
              "\n",
              "          const docLinkHtml = 'Like what you see? Visit the ' +\n",
              "            '<a target=\"_blank\" href=https://colab.research.google.com/notebooks/data_table.ipynb>data table notebook</a>'\n",
              "            + ' to learn more about interactive tables.';\n",
              "          element.innerHTML = '';\n",
              "          dataTable['output_type'] = 'display_data';\n",
              "          await google.colab.output.renderOutput(dataTable, element);\n",
              "          const docLink = document.createElement('div');\n",
              "          docLink.innerHTML = docLinkHtml;\n",
              "          element.appendChild(docLink);\n",
              "        }\n",
              "      </script>\n",
              "    </div>\n",
              "  </div>\n",
              "  "
            ]
          },
          "metadata": {},
          "execution_count": 34
        }
      ],
      "source": [
        "df_model = pd.DataFrame(index=models.keys(), columns=['Accuracy', 'Precision', 'Recall'])\n",
        "df_model['Accuracy'] = accuracy.values()\n",
        "df_model['Precision'] = precision.values()\n",
        "df_model['Recall'] = recall.values()\n",
        "\n",
        "df_model"
      ]
    },
    {
      "cell_type": "code",
      "source": [
        "def customLoss(y_true, y_pred):\n",
        "  y_pred-=float(y_true)\n",
        "  y_pred*=1000\n",
        "  y_pred = abs(y_pred)\n",
        "  return y_pred"
      ],
      "metadata": {
        "id": "84xR4S4s7-qT"
      },
      "id": "84xR4S4s7-qT",
      "execution_count": 53,
      "outputs": []
    },
    {
      "cell_type": "code",
      "execution_count": 65,
      "id": "b5ec4857",
      "metadata": {
        "colab": {
          "base_uri": "https://localhost:8080/"
        },
        "id": "b5ec4857",
        "outputId": "de1a2a27-994f-4291-c472-81077da4613d"
      },
      "outputs": [
        {
          "output_type": "stream",
          "name": "stdout",
          "text": [
            "Model: \"sequential_12\"\n",
            "_________________________________________________________________\n",
            " Layer (type)                Output Shape              Param #   \n",
            "=================================================================\n",
            " dense_35 (Dense)            (None, 128)               1280      \n",
            "                                                                 \n",
            " dense_36 (Dense)            (None, 128)               16512     \n",
            "                                                                 \n",
            " dense_37 (Dense)            (None, 128)               16512     \n",
            "                                                                 \n",
            " dense_38 (Dense)            (None, 128)               16512     \n",
            "                                                                 \n",
            " dense_39 (Dense)            (None, 1)                 129       \n",
            "                                                                 \n",
            "=================================================================\n",
            "Total params: 50,945\n",
            "Trainable params: 50,945\n",
            "Non-trainable params: 0\n",
            "_________________________________________________________________\n"
          ]
        }
      ],
      "source": [
        "from keras.models import Sequential\n",
        "from keras.layers import Dense\n",
        "\n",
        "model = Sequential() \n",
        "model.add(Dense(128, activation='relu', input_dim=X_train[0].size))\n",
        "model.add(Dense(128, activation='sigmoid'))\n",
        "model.add(Dense(128, activation='sigmoid'))\n",
        "model.add(Dense(128, activation='sigmoid'))\n",
        "model.add(Dense(1, activation='tanh')) \n",
        "model.compile(loss=customLoss, optimizer='adam', metrics=['accuracy']) \n",
        "model.summary()"
      ]
    },
    {
      "cell_type": "code",
      "execution_count": 66,
      "id": "16f724bb",
      "metadata": {
        "colab": {
          "base_uri": "https://localhost:8080/"
        },
        "id": "16f724bb",
        "outputId": "925f3f3f-7f16-43bd-bf51-fa98de63d721"
      },
      "outputs": [
        {
          "output_type": "stream",
          "name": "stdout",
          "text": [
            "Epoch 1/10\n",
            "60/60 [==============================] - 1s 6ms/step - loss: 276.5259 - accuracy: 0.7704 - val_loss: 254.8828 - val_accuracy: 0.7549\n",
            "Epoch 2/10\n",
            "60/60 [==============================] - 0s 4ms/step - loss: 243.8929 - accuracy: 0.7704 - val_loss: 252.4897 - val_accuracy: 0.7549\n",
            "Epoch 3/10\n",
            "60/60 [==============================] - 0s 4ms/step - loss: 241.0960 - accuracy: 0.7704 - val_loss: 247.9443 - val_accuracy: 0.7549\n",
            "Epoch 4/10\n",
            "60/60 [==============================] - 0s 4ms/step - loss: 247.3844 - accuracy: 0.7704 - val_loss: 290.3970 - val_accuracy: 0.7549\n",
            "Epoch 5/10\n",
            "60/60 [==============================] - 0s 4ms/step - loss: 241.7429 - accuracy: 0.7704 - val_loss: 265.2642 - val_accuracy: 0.7549\n",
            "Epoch 6/10\n",
            "60/60 [==============================] - 0s 4ms/step - loss: 245.9810 - accuracy: 0.7704 - val_loss: 256.2922 - val_accuracy: 0.7549\n",
            "Epoch 7/10\n",
            "60/60 [==============================] - 0s 4ms/step - loss: 237.8267 - accuracy: 0.7704 - val_loss: 256.6945 - val_accuracy: 0.7549\n",
            "Epoch 8/10\n",
            "60/60 [==============================] - 0s 4ms/step - loss: 243.2848 - accuracy: 0.7704 - val_loss: 247.6956 - val_accuracy: 0.7549\n",
            "Epoch 9/10\n",
            "60/60 [==============================] - 0s 4ms/step - loss: 243.5242 - accuracy: 0.7704 - val_loss: 260.8900 - val_accuracy: 0.7549\n",
            "Epoch 10/10\n",
            "60/60 [==============================] - 0s 4ms/step - loss: 241.1723 - accuracy: 0.7704 - val_loss: 265.3900 - val_accuracy: 0.7549\n"
          ]
        }
      ],
      "source": [
        "hist = model.fit(X_train, y_train, validation_data=(X_test, y_test), epochs=10, batch_size=100)"
      ]
    },
    {
      "cell_type": "code",
      "execution_count": 37,
      "id": "ead50d16",
      "metadata": {
        "colab": {
          "base_uri": "https://localhost:8080/",
          "height": 318
        },
        "id": "ead50d16",
        "outputId": "29595ace-df0f-4b39-c724-2dac0ddec30b"
      },
      "outputs": [
        {
          "output_type": "execute_result",
          "data": {
            "text/plain": [
              "[]"
            ]
          },
          "metadata": {},
          "execution_count": 37
        },
        {
          "output_type": "display_data",
          "data": {
            "text/plain": [
              "<Figure size 432x288 with 1 Axes>"
            ],
            "image/png": "[encoded data removed]"
          },
          "metadata": {}
        }
      ],
      "source": [
        "import matplotlib.pyplot as plt\n",
        "%matplotlib inline\n",
        "import seaborn as sns\n",
        "sns.set()\n",
        "\n",
        "acc = hist.history['accuracy']\n",
        "val = hist.history['val_accuracy']\n",
        "epochs = range(1, len(acc) + 1)\n",
        "\n",
        "plt.plot(epochs, acc, '-', label='Training accuracy')\n",
        "plt.plot(epochs, val, ':', label='Validation accuracy')\n",
        "plt.title('Training and Validation Accuracy')\n",
        "plt.xlabel('Epoch')\n",
        "plt.ylabel('Accuracy')\n",
        "plt.legend(loc='lower right')\n",
        "plt.plot()"
      ]
    },
    {
      "cell_type": "code",
      "execution_count": 38,
      "id": "7cbe4392",
      "metadata": {
        "colab": {
          "base_uri": "https://localhost:8080/",
          "height": 303
        },
        "id": "7cbe4392",
        "outputId": "7baf67b5-5d30-4cbf-c03a-3baf5669b694"
      },
      "outputs": [
        {
          "output_type": "execute_result",
          "data": {
            "text/plain": [
              "Text(88.27375, 0.5, 'Actual label')"
            ]
          },
          "metadata": {},
          "execution_count": 38
        },
        {
          "output_type": "display_data",
          "data": {
            "text/plain": [
              "<Figure size 432x288 with 1 Axes>"
            ],
            "image/png": "[encoded data removed]"
          },
          "metadata": {}
        }
      ],
      "source": [
        "from sklearn.metrics import confusion_matrix\n",
        "\n",
        "y_predicted = model.predict(X_test) > 0.5\n",
        "mat = confusion_matrix(y_test, y_predicted)\n",
        "labels = ['Is_Churn_Yes', 'Is_Churn_No']\n",
        "\n",
        "sns.heatmap(mat, square=True, annot=True, fmt='d', cbar=False, cmap='Blues',\n",
        "            xticklabels=labels, yticklabels=labels)\n",
        "\n",
        "plt.xlabel('Predicted label')\n",
        "plt.ylabel('Actual label')"
      ]
    },
    {
      "cell_type": "code",
      "source": [
        "import numpy as np\n",
        "np.sum(data.Is_Churn)"
      ],
      "metadata": {
        "colab": {
          "base_uri": "https://localhost:8080/"
        },
        "id": "C2NlbuXiwK5A",
        "outputId": "3a348c14-96fb-45a3-cbb3-473ed854b3d3"
      },
      "id": "C2NlbuXiwK5A",
      "execution_count": 39,
      "outputs": [
        {
          "output_type": "execute_result",
          "data": {
            "text/plain": [
              "1537"
            ]
          },
          "metadata": {},
          "execution_count": 39
        }
      ]
    },
    {
      "cell_type": "code",
      "source": [
        "len(data)"
      ],
      "metadata": {
        "colab": {
          "base_uri": "https://localhost:8080/"
        },
        "id": "i94hApsJwqwj",
        "outputId": "266ccf88-0ffe-4d62-f0be-7e123e864d19"
      },
      "id": "i94hApsJwqwj",
      "execution_count": 40,
      "outputs": [
        {
          "output_type": "execute_result",
          "data": {
            "text/plain": [
              "6650"
            ]
          },
          "metadata": {},
          "execution_count": 40
        }
      ]
    },
    {
      "cell_type": "code",
      "source": [],
      "metadata": {
        "id": "ZE8OZ5CdxBzJ"
      },
      "id": "ZE8OZ5CdxBzJ",
      "execution_count": null,
      "outputs": []
    }
  ],
  "metadata": {
    "kernelspec": {
      "display_name": "Python 3 (ipykernel)",
      "language": "python",
      "name": "python3"
    },
    "language_info": {
      "codemirror_mode": {
        "name": "ipython",
        "version": 3
      },
      "file_extension": ".py",
      "mimetype": "text/x-python",
      "name": "python",
      "nbconvert_exporter": "python",
      "pygments_lexer": "ipython3",
      "version": "3.7.11"
    },
    "colab": {
      "provenance": [],
      "collapsed_sections": []
    }
  },
  "nbformat": 4,
  "nbformat_minor": 5
}