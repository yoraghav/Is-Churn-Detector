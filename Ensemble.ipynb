{
 "cells": [
  {
   "cell_type": "code",
   "execution_count": 2,
   "id": "39adbedf",
   "metadata": {
    "id": "39adbedf"
   },
   "outputs": [],
   "source": [
    "import pandas as pd\n",
    "import numpy as np\n",
    "from collections import Counter\n",
    "import pandas as pd\n",
    "from sklearn.metrics import confusion_matrix\n",
    "import seaborn as sns\n",
    "import matplotlib.pyplot as plt"
   ]
  },
  {
   "cell_type": "code",
   "execution_count": 3,
   "id": "37339cfd",
   "metadata": {},
   "outputs": [],
   "source": [
    "pd.options.display.max_columns = 999\n",
    "data_path = \"Train_churn.csv\"\n",
    "data = pd.read_csv(data_path) #Reads CSV file into a dataframe"
   ]
  },
  {
   "cell_type": "code",
   "execution_count": 4,
   "id": "e28fa156",
   "metadata": {
    "id": "e28fa156"
   },
   "outputs": [],
   "source": [
    "data = data.set_index(['ID'])\n",
    "from sklearn import preprocessing\n",
    "label_encoder = preprocessing.LabelEncoder() \n",
    "data['Gender'] = label_encoder.fit_transform(data['Gender']) #Encodes Labels into Binary Data"
   ]
  },
  {
   "cell_type": "code",
   "execution_count": 5,
   "id": "13fd0bda",
   "metadata": {
    "colab": {
     "base_uri": "https://localhost:8080/",
     "height": 455
    },
    "id": "13fd0bda",
    "outputId": "578cc365-e646-40aa-fa25-27b5a4c191b2"
   },
   "outputs": [
    {
     "data": {
      "text/html": [
       "<div>\n",
       "<style scoped>\n",
       "    .dataframe tbody tr th:only-of-type {\n",
       "        vertical-align: middle;\n",
       "    }\n",
       "\n",
       "    .dataframe tbody tr th {\n",
       "        vertical-align: top;\n",
       "    }\n",
       "\n",
       "    .dataframe thead th {\n",
       "        text-align: right;\n",
       "    }\n",
       "</style>\n",
       "<table border=\"1\" class=\"dataframe\">\n",
       "  <thead>\n",
       "    <tr style=\"text-align: right;\">\n",
       "      <th></th>\n",
       "      <th>Age</th>\n",
       "      <th>Gender</th>\n",
       "      <th>Income</th>\n",
       "      <th>Balance</th>\n",
       "      <th>Vintage</th>\n",
       "      <th>Transaction_Status</th>\n",
       "      <th>Product_Holdings</th>\n",
       "      <th>Credit_Card</th>\n",
       "      <th>Credit_Category</th>\n",
       "      <th>Is_Churn</th>\n",
       "    </tr>\n",
       "    <tr>\n",
       "      <th>ID</th>\n",
       "      <th></th>\n",
       "      <th></th>\n",
       "      <th></th>\n",
       "      <th></th>\n",
       "      <th></th>\n",
       "      <th></th>\n",
       "      <th></th>\n",
       "      <th></th>\n",
       "      <th></th>\n",
       "      <th></th>\n",
       "    </tr>\n",
       "  </thead>\n",
       "  <tbody>\n",
       "    <tr>\n",
       "      <th>84e2fcc9</th>\n",
       "      <td>36</td>\n",
       "      <td>0</td>\n",
       "      <td>5L - 10L</td>\n",
       "      <td>563266.44</td>\n",
       "      <td>4</td>\n",
       "      <td>0</td>\n",
       "      <td>1</td>\n",
       "      <td>0</td>\n",
       "      <td>Average</td>\n",
       "      <td>1</td>\n",
       "    </tr>\n",
       "    <tr>\n",
       "      <th>57fea15e</th>\n",
       "      <td>53</td>\n",
       "      <td>0</td>\n",
       "      <td>Less than 5L</td>\n",
       "      <td>875572.11</td>\n",
       "      <td>2</td>\n",
       "      <td>1</td>\n",
       "      <td>1</td>\n",
       "      <td>1</td>\n",
       "      <td>Poor</td>\n",
       "      <td>0</td>\n",
       "    </tr>\n",
       "    <tr>\n",
       "      <th>8df34ef3</th>\n",
       "      <td>35</td>\n",
       "      <td>0</td>\n",
       "      <td>More than 15L</td>\n",
       "      <td>701607.06</td>\n",
       "      <td>2</td>\n",
       "      <td>1</td>\n",
       "      <td>2</td>\n",
       "      <td>0</td>\n",
       "      <td>Poor</td>\n",
       "      <td>0</td>\n",
       "    </tr>\n",
       "    <tr>\n",
       "      <th>c5c0788b</th>\n",
       "      <td>43</td>\n",
       "      <td>0</td>\n",
       "      <td>More than 15L</td>\n",
       "      <td>1393922.16</td>\n",
       "      <td>0</td>\n",
       "      <td>1</td>\n",
       "      <td>2</td>\n",
       "      <td>1</td>\n",
       "      <td>Poor</td>\n",
       "      <td>1</td>\n",
       "    </tr>\n",
       "    <tr>\n",
       "      <th>951d69c4</th>\n",
       "      <td>39</td>\n",
       "      <td>0</td>\n",
       "      <td>More than 15L</td>\n",
       "      <td>893146.23</td>\n",
       "      <td>1</td>\n",
       "      <td>1</td>\n",
       "      <td>1</td>\n",
       "      <td>1</td>\n",
       "      <td>Good</td>\n",
       "      <td>1</td>\n",
       "    </tr>\n",
       "    <tr>\n",
       "      <th>...</th>\n",
       "      <td>...</td>\n",
       "      <td>...</td>\n",
       "      <td>...</td>\n",
       "      <td>...</td>\n",
       "      <td>...</td>\n",
       "      <td>...</td>\n",
       "      <td>...</td>\n",
       "      <td>...</td>\n",
       "      <td>...</td>\n",
       "      <td>...</td>\n",
       "    </tr>\n",
       "    <tr>\n",
       "      <th>a8216afd</th>\n",
       "      <td>61</td>\n",
       "      <td>1</td>\n",
       "      <td>5L - 10L</td>\n",
       "      <td>1354526.19</td>\n",
       "      <td>4</td>\n",
       "      <td>1</td>\n",
       "      <td>2</td>\n",
       "      <td>1</td>\n",
       "      <td>Poor</td>\n",
       "      <td>1</td>\n",
       "    </tr>\n",
       "    <tr>\n",
       "      <th>153a306b</th>\n",
       "      <td>42</td>\n",
       "      <td>0</td>\n",
       "      <td>5L - 10L</td>\n",
       "      <td>596286.54</td>\n",
       "      <td>3</td>\n",
       "      <td>1</td>\n",
       "      <td>2</td>\n",
       "      <td>1</td>\n",
       "      <td>Average</td>\n",
       "      <td>0</td>\n",
       "    </tr>\n",
       "    <tr>\n",
       "      <th>d4075a95</th>\n",
       "      <td>29</td>\n",
       "      <td>1</td>\n",
       "      <td>Less than 5L</td>\n",
       "      <td>979298.19</td>\n",
       "      <td>2</td>\n",
       "      <td>0</td>\n",
       "      <td>2</td>\n",
       "      <td>0</td>\n",
       "      <td>Poor</td>\n",
       "      <td>0</td>\n",
       "    </tr>\n",
       "    <tr>\n",
       "      <th>5855b142</th>\n",
       "      <td>66</td>\n",
       "      <td>0</td>\n",
       "      <td>10L - 15L</td>\n",
       "      <td>395233.65</td>\n",
       "      <td>3</td>\n",
       "      <td>0</td>\n",
       "      <td>2</td>\n",
       "      <td>1</td>\n",
       "      <td>Poor</td>\n",
       "      <td>1</td>\n",
       "    </tr>\n",
       "    <tr>\n",
       "      <th>57b39511</th>\n",
       "      <td>37</td>\n",
       "      <td>1</td>\n",
       "      <td>More than 15L</td>\n",
       "      <td>826947.27</td>\n",
       "      <td>1</td>\n",
       "      <td>1</td>\n",
       "      <td>2</td>\n",
       "      <td>0</td>\n",
       "      <td>Good</td>\n",
       "      <td>0</td>\n",
       "    </tr>\n",
       "  </tbody>\n",
       "</table>\n",
       "<p>6650 rows × 10 columns</p>\n",
       "</div>"
      ],
      "text/plain": [
       "          Age  Gender         Income     Balance  Vintage  Transaction_Status  \\\n",
       "ID                                                                              \n",
       "84e2fcc9   36       0       5L - 10L   563266.44        4                   0   \n",
       "57fea15e   53       0   Less than 5L   875572.11        2                   1   \n",
       "8df34ef3   35       0  More than 15L   701607.06        2                   1   \n",
       "c5c0788b   43       0  More than 15L  1393922.16        0                   1   \n",
       "951d69c4   39       0  More than 15L   893146.23        1                   1   \n",
       "...       ...     ...            ...         ...      ...                 ...   \n",
       "a8216afd   61       1       5L - 10L  1354526.19        4                   1   \n",
       "153a306b   42       0       5L - 10L   596286.54        3                   1   \n",
       "d4075a95   29       1   Less than 5L   979298.19        2                   0   \n",
       "5855b142   66       0      10L - 15L   395233.65        3                   0   \n",
       "57b39511   37       1  More than 15L   826947.27        1                   1   \n",
       "\n",
       "         Product_Holdings  Credit_Card Credit_Category  Is_Churn  \n",
       "ID                                                                \n",
       "84e2fcc9                1            0         Average         1  \n",
       "57fea15e                1            1            Poor         0  \n",
       "8df34ef3                2            0            Poor         0  \n",
       "c5c0788b                2            1            Poor         1  \n",
       "951d69c4                1            1            Good         1  \n",
       "...                   ...          ...             ...       ...  \n",
       "a8216afd                2            1            Poor         1  \n",
       "153a306b                2            1         Average         0  \n",
       "d4075a95                2            0            Poor         0  \n",
       "5855b142                2            1            Poor         1  \n",
       "57b39511                2            0            Good         0  \n",
       "\n",
       "[6650 rows x 10 columns]"
      ]
     },
     "execution_count": 5,
     "metadata": {},
     "output_type": "execute_result"
    }
   ],
   "source": [
    "data"
   ]
  },
  {
   "cell_type": "code",
   "execution_count": 6,
   "id": "95032d7e",
   "metadata": {
    "id": "95032d7e"
   },
   "outputs": [],
   "source": [
    "#Encoding Credit Category with Poor as -1, Average as 0 and Good as 1\n",
    "a = [] \n",
    "for cc in data.Credit_Category:\n",
    "    if(cc[0]=='P'):\n",
    "        a.append(-1)\n",
    "    elif(cc[0]=='A'):\n",
    "        a.append(0)\n",
    "    else:\n",
    "        a.append(1)"
   ]
  },
  {
   "cell_type": "code",
   "execution_count": 7,
   "id": "aa6042e2",
   "metadata": {
    "id": "aa6042e2"
   },
   "outputs": [],
   "source": [
    "data.Credit_Category = a"
   ]
  },
  {
   "cell_type": "code",
   "execution_count": 8,
   "id": "ec5a1742",
   "metadata": {
    "id": "ec5a1742"
   },
   "outputs": [],
   "source": [
    "#Encoding Income with Less than 5L as -1, Average as 0 and Good as 1\n",
    "a = []\n",
    "for cc in data.Income:\n",
    "    if(cc[0]=='L'):\n",
    "        a.append(-1)\n",
    "    elif(cc[0]=='5'):\n",
    "        a.append(0)\n",
    "    else:\n",
    "        a.append(1)"
   ]
  },
  {
   "cell_type": "code",
   "execution_count": 9,
   "id": "8040e744",
   "metadata": {
    "id": "8040e744"
   },
   "outputs": [],
   "source": [
    "data.Income = a"
   ]
  },
  {
   "cell_type": "code",
   "execution_count": 10,
   "id": "a938e142",
   "metadata": {
    "id": "a938e142"
   },
   "outputs": [],
   "source": [
    "#Encoding Credit Category with Less than 5L as , Average as 0 and Good as 1\n",
    "a = [] \n",
    "for i in data.Product_Holdings:\n",
    "    if(i[0]=='3'):\n",
    "        a.append(3)\n",
    "    else:\n",
    "        a.append(int(i))\n",
    "data.Product_Holdings=a"
   ]
  },
  {
   "cell_type": "code",
   "execution_count": 11,
   "id": "f39c9471",
   "metadata": {},
   "outputs": [
    {
     "data": {
      "text/html": [
       "<div>\n",
       "<style scoped>\n",
       "    .dataframe tbody tr th:only-of-type {\n",
       "        vertical-align: middle;\n",
       "    }\n",
       "\n",
       "    .dataframe tbody tr th {\n",
       "        vertical-align: top;\n",
       "    }\n",
       "\n",
       "    .dataframe thead th {\n",
       "        text-align: right;\n",
       "    }\n",
       "</style>\n",
       "<table border=\"1\" class=\"dataframe\">\n",
       "  <thead>\n",
       "    <tr style=\"text-align: right;\">\n",
       "      <th></th>\n",
       "      <th>Age</th>\n",
       "      <th>Gender</th>\n",
       "      <th>Income</th>\n",
       "      <th>Balance</th>\n",
       "      <th>Vintage</th>\n",
       "      <th>Transaction_Status</th>\n",
       "      <th>Product_Holdings</th>\n",
       "      <th>Credit_Card</th>\n",
       "      <th>Credit_Category</th>\n",
       "      <th>Is_Churn</th>\n",
       "    </tr>\n",
       "    <tr>\n",
       "      <th>ID</th>\n",
       "      <th></th>\n",
       "      <th></th>\n",
       "      <th></th>\n",
       "      <th></th>\n",
       "      <th></th>\n",
       "      <th></th>\n",
       "      <th></th>\n",
       "      <th></th>\n",
       "      <th></th>\n",
       "      <th></th>\n",
       "    </tr>\n",
       "  </thead>\n",
       "  <tbody>\n",
       "    <tr>\n",
       "      <th>84e2fcc9</th>\n",
       "      <td>36</td>\n",
       "      <td>0</td>\n",
       "      <td>0</td>\n",
       "      <td>563266.44</td>\n",
       "      <td>4</td>\n",
       "      <td>0</td>\n",
       "      <td>1</td>\n",
       "      <td>0</td>\n",
       "      <td>0</td>\n",
       "      <td>1</td>\n",
       "    </tr>\n",
       "    <tr>\n",
       "      <th>57fea15e</th>\n",
       "      <td>53</td>\n",
       "      <td>0</td>\n",
       "      <td>-1</td>\n",
       "      <td>875572.11</td>\n",
       "      <td>2</td>\n",
       "      <td>1</td>\n",
       "      <td>1</td>\n",
       "      <td>1</td>\n",
       "      <td>-1</td>\n",
       "      <td>0</td>\n",
       "    </tr>\n",
       "    <tr>\n",
       "      <th>8df34ef3</th>\n",
       "      <td>35</td>\n",
       "      <td>0</td>\n",
       "      <td>1</td>\n",
       "      <td>701607.06</td>\n",
       "      <td>2</td>\n",
       "      <td>1</td>\n",
       "      <td>2</td>\n",
       "      <td>0</td>\n",
       "      <td>-1</td>\n",
       "      <td>0</td>\n",
       "    </tr>\n",
       "    <tr>\n",
       "      <th>c5c0788b</th>\n",
       "      <td>43</td>\n",
       "      <td>0</td>\n",
       "      <td>1</td>\n",
       "      <td>1393922.16</td>\n",
       "      <td>0</td>\n",
       "      <td>1</td>\n",
       "      <td>2</td>\n",
       "      <td>1</td>\n",
       "      <td>-1</td>\n",
       "      <td>1</td>\n",
       "    </tr>\n",
       "    <tr>\n",
       "      <th>951d69c4</th>\n",
       "      <td>39</td>\n",
       "      <td>0</td>\n",
       "      <td>1</td>\n",
       "      <td>893146.23</td>\n",
       "      <td>1</td>\n",
       "      <td>1</td>\n",
       "      <td>1</td>\n",
       "      <td>1</td>\n",
       "      <td>1</td>\n",
       "      <td>1</td>\n",
       "    </tr>\n",
       "    <tr>\n",
       "      <th>...</th>\n",
       "      <td>...</td>\n",
       "      <td>...</td>\n",
       "      <td>...</td>\n",
       "      <td>...</td>\n",
       "      <td>...</td>\n",
       "      <td>...</td>\n",
       "      <td>...</td>\n",
       "      <td>...</td>\n",
       "      <td>...</td>\n",
       "      <td>...</td>\n",
       "    </tr>\n",
       "    <tr>\n",
       "      <th>a8216afd</th>\n",
       "      <td>61</td>\n",
       "      <td>1</td>\n",
       "      <td>0</td>\n",
       "      <td>1354526.19</td>\n",
       "      <td>4</td>\n",
       "      <td>1</td>\n",
       "      <td>2</td>\n",
       "      <td>1</td>\n",
       "      <td>-1</td>\n",
       "      <td>1</td>\n",
       "    </tr>\n",
       "    <tr>\n",
       "      <th>153a306b</th>\n",
       "      <td>42</td>\n",
       "      <td>0</td>\n",
       "      <td>0</td>\n",
       "      <td>596286.54</td>\n",
       "      <td>3</td>\n",
       "      <td>1</td>\n",
       "      <td>2</td>\n",
       "      <td>1</td>\n",
       "      <td>0</td>\n",
       "      <td>0</td>\n",
       "    </tr>\n",
       "    <tr>\n",
       "      <th>d4075a95</th>\n",
       "      <td>29</td>\n",
       "      <td>1</td>\n",
       "      <td>-1</td>\n",
       "      <td>979298.19</td>\n",
       "      <td>2</td>\n",
       "      <td>0</td>\n",
       "      <td>2</td>\n",
       "      <td>0</td>\n",
       "      <td>-1</td>\n",
       "      <td>0</td>\n",
       "    </tr>\n",
       "    <tr>\n",
       "      <th>5855b142</th>\n",
       "      <td>66</td>\n",
       "      <td>0</td>\n",
       "      <td>1</td>\n",
       "      <td>395233.65</td>\n",
       "      <td>3</td>\n",
       "      <td>0</td>\n",
       "      <td>2</td>\n",
       "      <td>1</td>\n",
       "      <td>-1</td>\n",
       "      <td>1</td>\n",
       "    </tr>\n",
       "    <tr>\n",
       "      <th>57b39511</th>\n",
       "      <td>37</td>\n",
       "      <td>1</td>\n",
       "      <td>1</td>\n",
       "      <td>826947.27</td>\n",
       "      <td>1</td>\n",
       "      <td>1</td>\n",
       "      <td>2</td>\n",
       "      <td>0</td>\n",
       "      <td>1</td>\n",
       "      <td>0</td>\n",
       "    </tr>\n",
       "  </tbody>\n",
       "</table>\n",
       "<p>6650 rows × 10 columns</p>\n",
       "</div>"
      ],
      "text/plain": [
       "          Age  Gender  Income     Balance  Vintage  Transaction_Status  \\\n",
       "ID                                                                       \n",
       "84e2fcc9   36       0       0   563266.44        4                   0   \n",
       "57fea15e   53       0      -1   875572.11        2                   1   \n",
       "8df34ef3   35       0       1   701607.06        2                   1   \n",
       "c5c0788b   43       0       1  1393922.16        0                   1   \n",
       "951d69c4   39       0       1   893146.23        1                   1   \n",
       "...       ...     ...     ...         ...      ...                 ...   \n",
       "a8216afd   61       1       0  1354526.19        4                   1   \n",
       "153a306b   42       0       0   596286.54        3                   1   \n",
       "d4075a95   29       1      -1   979298.19        2                   0   \n",
       "5855b142   66       0       1   395233.65        3                   0   \n",
       "57b39511   37       1       1   826947.27        1                   1   \n",
       "\n",
       "          Product_Holdings  Credit_Card  Credit_Category  Is_Churn  \n",
       "ID                                                                  \n",
       "84e2fcc9                 1            0                0         1  \n",
       "57fea15e                 1            1               -1         0  \n",
       "8df34ef3                 2            0               -1         0  \n",
       "c5c0788b                 2            1               -1         1  \n",
       "951d69c4                 1            1                1         1  \n",
       "...                    ...          ...              ...       ...  \n",
       "a8216afd                 2            1               -1         1  \n",
       "153a306b                 2            1                0         0  \n",
       "d4075a95                 2            0               -1         0  \n",
       "5855b142                 2            1               -1         1  \n",
       "57b39511                 2            0                1         0  \n",
       "\n",
       "[6650 rows x 10 columns]"
      ]
     },
     "execution_count": 11,
     "metadata": {},
     "output_type": "execute_result"
    }
   ],
   "source": [
    "data"
   ]
  },
  {
   "cell_type": "code",
   "execution_count": 12,
   "id": "f409418f",
   "metadata": {},
   "outputs": [
    {
     "data": {
      "text/plain": [
       "Is_Churn\n",
       "0    5113\n",
       "1    1537\n",
       "Name: Age, dtype: int64"
      ]
     },
     "execution_count": 12,
     "metadata": {},
     "output_type": "execute_result"
    }
   ],
   "source": [
    "data.groupby(by=['Is_Churn']).Age.count()  #data is heaily biased towards is_churned = 0"
   ]
  },
  {
   "cell_type": "code",
   "execution_count": 13,
   "id": "a2734d46",
   "metadata": {
    "id": "a2734d46"
   },
   "outputs": [],
   "source": [
    "#Apllying SMOTE Algorithm to account for data imablance or covariate shift\n",
    "\n",
    "from sklearn.model_selection import train_test_split\n",
    "\n",
    "X_train, X_test, y_train, y_test = train_test_split(data.drop(['Is_Churn'],axis=1), data.Is_Churn , test_size=0.1, random_state=0)\n",
    "\n",
    "from imblearn.over_sampling import SMOTE\n",
    "sm = SMOTE(random_state = 2)\n",
    "X_train, y_train = sm.fit_resample(X_train, y_train.ravel())"
   ]
  },
  {
   "cell_type": "code",
   "execution_count": 14,
   "id": "1af4eb54",
   "metadata": {},
   "outputs": [
    {
     "data": {
      "text/plain": [
       "0.5"
      ]
     },
     "execution_count": 14,
     "metadata": {},
     "output_type": "execute_result"
    }
   ],
   "source": [
    "y_train.sum()/len(y_train)  #ratio of is_churned values = 0.5"
   ]
  },
  {
   "cell_type": "code",
   "execution_count": 15,
   "id": "c965c1fe",
   "metadata": {
    "id": "c965c1fe"
   },
   "outputs": [],
   "source": [
    "#Pre processing data using a standard scaler\n",
    "from sklearn.preprocessing import StandardScaler\n",
    "\n",
    "ss_train = StandardScaler()\n",
    "X_train[['Balance','Age']] = ss_train.fit_transform(X_train[['Balance','Age']])\n",
    "\n",
    "ss_test = StandardScaler()\n",
    "X_test[['Balance','Age']] = ss_test.fit_transform(X_test[['Balance','Age']])"
   ]
  },
  {
   "cell_type": "code",
   "execution_count": 16,
   "id": "ca114e66",
   "metadata": {
    "colab": {
     "base_uri": "https://localhost:8080/"
    },
    "id": "ca114e66",
    "outputId": "673bd518-0919-4ea0-dafb-268405ccfa5e"
   },
   "outputs": [
    {
     "data": {
      "text/html": [
       "<div>\n",
       "<style scoped>\n",
       "    .dataframe tbody tr th:only-of-type {\n",
       "        vertical-align: middle;\n",
       "    }\n",
       "\n",
       "    .dataframe tbody tr th {\n",
       "        vertical-align: top;\n",
       "    }\n",
       "\n",
       "    .dataframe thead th {\n",
       "        text-align: right;\n",
       "    }\n",
       "</style>\n",
       "<table border=\"1\" class=\"dataframe\">\n",
       "  <thead>\n",
       "    <tr style=\"text-align: right;\">\n",
       "      <th></th>\n",
       "      <th>Age</th>\n",
       "      <th>Gender</th>\n",
       "      <th>Income</th>\n",
       "      <th>Balance</th>\n",
       "      <th>Vintage</th>\n",
       "      <th>Transaction_Status</th>\n",
       "      <th>Product_Holdings</th>\n",
       "      <th>Credit_Card</th>\n",
       "      <th>Credit_Category</th>\n",
       "    </tr>\n",
       "  </thead>\n",
       "  <tbody>\n",
       "    <tr>\n",
       "      <th>0</th>\n",
       "      <td>2.430586</td>\n",
       "      <td>0</td>\n",
       "      <td>-1</td>\n",
       "      <td>-1.379546</td>\n",
       "      <td>3</td>\n",
       "      <td>1</td>\n",
       "      <td>1</td>\n",
       "      <td>1</td>\n",
       "      <td>1</td>\n",
       "    </tr>\n",
       "    <tr>\n",
       "      <th>1</th>\n",
       "      <td>2.109905</td>\n",
       "      <td>1</td>\n",
       "      <td>-1</td>\n",
       "      <td>0.149042</td>\n",
       "      <td>1</td>\n",
       "      <td>1</td>\n",
       "      <td>1</td>\n",
       "      <td>1</td>\n",
       "      <td>-1</td>\n",
       "    </tr>\n",
       "    <tr>\n",
       "      <th>2</th>\n",
       "      <td>0.934074</td>\n",
       "      <td>0</td>\n",
       "      <td>1</td>\n",
       "      <td>1.736566</td>\n",
       "      <td>3</td>\n",
       "      <td>1</td>\n",
       "      <td>1</td>\n",
       "      <td>1</td>\n",
       "      <td>1</td>\n",
       "    </tr>\n",
       "    <tr>\n",
       "      <th>3</th>\n",
       "      <td>0.185818</td>\n",
       "      <td>1</td>\n",
       "      <td>-1</td>\n",
       "      <td>0.241048</td>\n",
       "      <td>4</td>\n",
       "      <td>0</td>\n",
       "      <td>1</td>\n",
       "      <td>1</td>\n",
       "      <td>1</td>\n",
       "    </tr>\n",
       "    <tr>\n",
       "      <th>4</th>\n",
       "      <td>-0.134863</td>\n",
       "      <td>1</td>\n",
       "      <td>0</td>\n",
       "      <td>1.315438</td>\n",
       "      <td>2</td>\n",
       "      <td>0</td>\n",
       "      <td>1</td>\n",
       "      <td>1</td>\n",
       "      <td>-1</td>\n",
       "    </tr>\n",
       "    <tr>\n",
       "      <th>...</th>\n",
       "      <td>...</td>\n",
       "      <td>...</td>\n",
       "      <td>...</td>\n",
       "      <td>...</td>\n",
       "      <td>...</td>\n",
       "      <td>...</td>\n",
       "      <td>...</td>\n",
       "      <td>...</td>\n",
       "      <td>...</td>\n",
       "    </tr>\n",
       "    <tr>\n",
       "      <th>9217</th>\n",
       "      <td>0.185818</td>\n",
       "      <td>1</td>\n",
       "      <td>0</td>\n",
       "      <td>1.255675</td>\n",
       "      <td>1</td>\n",
       "      <td>0</td>\n",
       "      <td>1</td>\n",
       "      <td>1</td>\n",
       "      <td>-1</td>\n",
       "    </tr>\n",
       "    <tr>\n",
       "      <th>9218</th>\n",
       "      <td>-0.241757</td>\n",
       "      <td>1</td>\n",
       "      <td>-1</td>\n",
       "      <td>0.679046</td>\n",
       "      <td>3</td>\n",
       "      <td>0</td>\n",
       "      <td>1</td>\n",
       "      <td>1</td>\n",
       "      <td>0</td>\n",
       "    </tr>\n",
       "    <tr>\n",
       "      <th>9219</th>\n",
       "      <td>-0.669332</td>\n",
       "      <td>0</td>\n",
       "      <td>1</td>\n",
       "      <td>-0.127511</td>\n",
       "      <td>1</td>\n",
       "      <td>0</td>\n",
       "      <td>2</td>\n",
       "      <td>0</td>\n",
       "      <td>0</td>\n",
       "    </tr>\n",
       "    <tr>\n",
       "      <th>9220</th>\n",
       "      <td>0.185818</td>\n",
       "      <td>0</td>\n",
       "      <td>0</td>\n",
       "      <td>0.690599</td>\n",
       "      <td>4</td>\n",
       "      <td>0</td>\n",
       "      <td>1</td>\n",
       "      <td>0</td>\n",
       "      <td>-1</td>\n",
       "    </tr>\n",
       "    <tr>\n",
       "      <th>9221</th>\n",
       "      <td>0.292712</td>\n",
       "      <td>1</td>\n",
       "      <td>0</td>\n",
       "      <td>1.846899</td>\n",
       "      <td>0</td>\n",
       "      <td>0</td>\n",
       "      <td>1</td>\n",
       "      <td>0</td>\n",
       "      <td>0</td>\n",
       "    </tr>\n",
       "  </tbody>\n",
       "</table>\n",
       "<p>9222 rows × 9 columns</p>\n",
       "</div>"
      ],
      "text/plain": [
       "           Age  Gender  Income   Balance  Vintage  Transaction_Status  \\\n",
       "0     2.430586       0      -1 -1.379546        3                   1   \n",
       "1     2.109905       1      -1  0.149042        1                   1   \n",
       "2     0.934074       0       1  1.736566        3                   1   \n",
       "3     0.185818       1      -1  0.241048        4                   0   \n",
       "4    -0.134863       1       0  1.315438        2                   0   \n",
       "...        ...     ...     ...       ...      ...                 ...   \n",
       "9217  0.185818       1       0  1.255675        1                   0   \n",
       "9218 -0.241757       1      -1  0.679046        3                   0   \n",
       "9219 -0.669332       0       1 -0.127511        1                   0   \n",
       "9220  0.185818       0       0  0.690599        4                   0   \n",
       "9221  0.292712       1       0  1.846899        0                   0   \n",
       "\n",
       "      Product_Holdings  Credit_Card  Credit_Category  \n",
       "0                    1            1                1  \n",
       "1                    1            1               -1  \n",
       "2                    1            1                1  \n",
       "3                    1            1                1  \n",
       "4                    1            1               -1  \n",
       "...                ...          ...              ...  \n",
       "9217                 1            1               -1  \n",
       "9218                 1            1                0  \n",
       "9219                 2            0                0  \n",
       "9220                 1            0               -1  \n",
       "9221                 1            0                0  \n",
       "\n",
       "[9222 rows x 9 columns]"
      ]
     },
     "execution_count": 16,
     "metadata": {},
     "output_type": "execute_result"
    }
   ],
   "source": [
    "X_train"
   ]
  },
  {
   "cell_type": "code",
   "execution_count": 17,
   "id": "1e888906",
   "metadata": {
    "id": "1e888906"
   },
   "outputs": [],
   "source": [
    "models = {}\n",
    "#Initialises different models\n",
    "# Logistic Regression\n",
    "from sklearn.linear_model import LogisticRegression\n",
    "models['Logistic Regression'] = LogisticRegression()\n",
    "\n",
    "# Support Vector Machines\n",
    "from sklearn.svm import LinearSVC\n",
    "models['Support Vector Machines'] = LinearSVC()\n",
    "\n",
    "# Decision Trees\n",
    "from sklearn.tree import DecisionTreeClassifier\n",
    "models['Decision Trees'] = DecisionTreeClassifier()\n",
    "\n",
    "# Random Forest\n",
    "from sklearn.ensemble import RandomForestClassifier\n",
    "models['Random Forest'] = RandomForestClassifier()\n",
    "\n",
    "# Naive Bayes\n",
    "from sklearn.naive_bayes import GaussianNB\n",
    "models['Naive Bayes'] = GaussianNB()\n",
    "\n",
    "# K-Nearest Neighbors\n",
    "from sklearn.neighbors import KNeighborsClassifier\n",
    "models['K-Nearest Neighbor'] = KNeighborsClassifier()\n",
    "\n",
    "from lightgbm import LGBMClassifier as lgb\n",
    "models['LGBoost'] = lgb()"
   ]
  },
  {
   "cell_type": "code",
   "execution_count": null,
   "id": "728fb0b4",
   "metadata": {
    "colab": {
     "base_uri": "https://localhost:8080/",
     "height": 1000
    },
    "id": "728fb0b4",
    "outputId": "e23dc22f-73dd-4ce6-8585-87257be1a88c"
   },
   "outputs": [
    {
     "data": {
      "image/png": "[encoded data removed]",
      "text/plain": [
       "<Figure size 432x288 with 1 Axes>"
      ]
     },
     "metadata": {
      "needs_background": "light"
     },
     "output_type": "display_data"
    },
    {
     "name": "stderr",
     "output_type": "stream",
     "text": [
      "/Users/raghavaggarwal/opt/anaconda3/lib/python3.7/site-packages/sklearn/svm/_base.py:1208: ConvergenceWarning: Liblinear failed to converge, increase the number of iterations.\n",
      "  ConvergenceWarning,\n"
     ]
    },
    {
     "data": {
      "image/png": "[encoded data removed]",
      "text/plain": [
       "<Figure size 432x288 with 1 Axes>"
      ]
     },
     "metadata": {
      "needs_background": "light"
     },
     "output_type": "display_data"
    },
    {
     "data": {
      "image/png": "[encoded data removed]",
      "text/plain": [
       "<Figure size 432x288 with 1 Axes>"
      ]
     },
     "metadata": {
      "needs_background": "light"
     },
     "output_type": "display_data"
    },
    {
     "data": {
      "image/png": "[encoded data removed]",
      "text/plain": [
       "<Figure size 432x288 with 1 Axes>"
      ]
     },
     "metadata": {
      "needs_background": "light"
     },
     "output_type": "display_data"
    },
    {
     "data": {
      "image/png": "[encoded data removed]",
      "text/plain": [
       "<Figure size 432x288 with 1 Axes>"
      ]
     },
     "metadata": {
      "needs_background": "light"
     },
     "output_type": "display_data"
    },
    {
     "data": {
      "image/png": "[encoded data removed]",
      "text/plain": [
       "<Figure size 432x288 with 1 Axes>"
      ]
     },
     "metadata": {
      "needs_background": "light"
     },
     "output_type": "display_data"
    }
   ],
   "source": [
    "from sklearn.metrics import accuracy_score, precision_score, recall_score, roc_auc_score\n",
    "\n",
    "accuracy, precision, recall,roc = {}, {}, {}, {}\n",
    "ensemble = np.zeros(y_test.shape)\n",
    "\n",
    "for key in models.keys():\n",
    "    \n",
    "    # Fit the classifier\n",
    "    models[key].fit(X_train, y_train)\n",
    "    \n",
    "    # Make predictions\n",
    "    predictions = models[key].predict(X_test)\n",
    "    ensemble += predictions\n",
    "    \n",
    "    # Calculate metrics\n",
    "    accuracy[key] = accuracy_score(predictions, y_test)\n",
    "    precision[key] = precision_score(predictions, y_test)\n",
    "    recall[key] = recall_score(predictions, y_test)\n",
    "    roc[key] = roc_auc_score(predictions, y_test)\n",
    "\n",
    "    mat = confusion_matrix(y_test, predictions)\n",
    "    labels = ['Is_Churn_Yes', 'Is_Churn_No']\n",
    "\n",
    "    sns.heatmap(mat, square=True, annot=True, fmt='d', cbar=False, cmap='Blues',\n",
    "                xticklabels=labels, yticklabels=labels)\n",
    "\n",
    "    plt.xlabel('Predicted label')\n",
    "    plt.ylabel('Actual label')\n",
    "    plt.show()"
   ]
  },
  {
   "cell_type": "code",
   "execution_count": null,
   "id": "xaZjg8lPVl9D",
   "metadata": {
    "colab": {
     "base_uri": "https://localhost:8080/"
    },
    "id": "xaZjg8lPVl9D",
    "outputId": "33bd51a9-23a1-4df2-a56f-bc46c437e805"
   },
   "outputs": [],
   "source": [
    "predictions = np.round(ensemble/7)\n",
    "print(accuracy_score(predictions, y_test),\n",
    "      precision_score(predictions, y_test),\n",
    "      recall_score(predictions, y_test),\n",
    "      roc_auc_score(predictions, y_test))"
   ]
  },
  {
   "cell_type": "code",
   "execution_count": null,
   "id": "eb58f259",
   "metadata": {
    "colab": {
     "base_uri": "https://localhost:8080/",
     "height": 269
    },
    "id": "eb58f259",
    "outputId": "e686a074-b0d6-4fb4-81f6-aceae1915469"
   },
   "outputs": [],
   "source": [
    "#Evaluates models on various metrics\n",
    "df_model = pd.DataFrame(index=models.keys(), columns=['Accuracy', 'Precision', 'Recall'])\n",
    "df_model['Accuracy'] = accuracy.values()\n",
    "df_model['Precision'] = precision.values()\n",
    "df_model['Recall'] = recall.values()\n",
    "df_model['Roc'] = roc.values()\n",
    "df_model"
   ]
  },
  {
   "cell_type": "code",
   "execution_count": null,
   "id": "84xR4S4s7-qT",
   "metadata": {
    "id": "84xR4S4s7-qT"
   },
   "outputs": [],
   "source": [
    "def customLoss(y_true, y_pred):\n",
    "  y_pred-=float(y_true)\n",
    "  y_pred*=1000\n",
    "  y_pred = abs(y_pred)\n",
    "  return y_pred"
   ]
  },
  {
   "cell_type": "code",
   "execution_count": 129,
   "id": "b5ec4857",
   "metadata": {
    "colab": {
     "base_uri": "https://localhost:8080/"
    },
    "id": "b5ec4857",
    "outputId": "4659312c-7372-4392-d0ca-52c3b3402c34"
   },
   "outputs": [
    {
     "name": "stdout",
     "output_type": "stream",
     "text": [
      "Model: \"sequential_3\"\n",
      "_________________________________________________________________\n",
      " Layer (type)                Output Shape              Param #   \n",
      "=================================================================\n",
      " dense_11 (Dense)            (None, 128)               1280      \n",
      "                                                                 \n",
      " dense_12 (Dense)            (None, 128)               16512     \n",
      "                                                                 \n",
      " dense_13 (Dense)            (None, 1)                 129       \n",
      "                                                                 \n",
      "=================================================================\n",
      "Total params: 17,921\n",
      "Trainable params: 17,921\n",
      "Non-trainable params: 0\n",
      "_________________________________________________________________\n"
     ]
    }
   ],
   "source": [
    "from keras.models import Sequential\n",
    "from keras.layers import Dense\n",
    "\n",
    "model = Sequential() \n",
    "model.add(Dense(128, activation='relu', input_dim=X_train[0].size))\n",
    "model.add(Dense(128, activation='sigmoid'))\n",
    "model.add(Dense(1, activation='tanh')) \n",
    "model.compile(loss=customLoss, optimizer='adam', metrics=['accuracy']) \n",
    "model.summary()"
   ]
  },
  {
   "cell_type": "code",
   "execution_count": 131,
   "id": "7cbe4392",
   "metadata": {
    "id": "7cbe4392"
   },
   "outputs": [],
   "source": [
    "y_predicted = model.predict(X_test) > 0.5"
   ]
  }
 ],
 "metadata": {
  "colab": {
   "collapsed_sections": [],
   "provenance": []
  },
  "kernelspec": {
   "display_name": "Python 3 (ipykernel)",
   "language": "python",
   "name": "python3"
  },
  "language_info": {
   "codemirror_mode": {
    "name": "ipython",
    "version": 3
   },
   "file_extension": ".py",
   "mimetype": "text/x-python",
   "name": "python",
   "nbconvert_exporter": "python",
   "pygments_lexer": "ipython3",
   "version": "3.7.11"
  }
 },
 "nbformat": 4,
 "nbformat_minor": 5
}
